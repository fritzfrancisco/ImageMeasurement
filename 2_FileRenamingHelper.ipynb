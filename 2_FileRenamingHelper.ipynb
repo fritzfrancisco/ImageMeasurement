{
 "cells": [
  {
   "cell_type": "code",
   "execution_count": 1,
   "id": "80dfaa13-370e-4d5d-b687-f08dfad829ae",
   "metadata": {},
   "outputs": [],
   "source": [
    "# Load required Python libraries\n",
    "\n",
    "%matplotlib inline\n",
    "import glob\n",
    "import os\n",
    "import shutil\n",
    "import time\n",
    "from pathlib import Path\n",
    "\n",
    "import cv2\n",
    "import matplotlib.pylab as plt\n",
    "import numpy as np\n",
    "import pandas as pd\n",
    "from IPython import display"
   ]
  },
  {
   "cell_type": "code",
   "execution_count": 2,
   "id": "c9da040c-839a-4a7b-8347-1865200d91e0",
   "metadata": {},
   "outputs": [],
   "source": [
    "# Input images\n",
    "image_file_pattern = \"/media/fritz/01_PNG_DATA/MeasurementImages/28042025/original/*.JPG\"  # Wildcard symbol (*) will select all files given the specific pattern\n",
    "input_images = sorted(glob.glob(image_file_pattern))  # Sorted image list\n",
    "\n",
    "# Ouput directory\n",
    "output_dir = \"/media/fritz/01_PNG_DATA/MeasurementImages/28042025/labeled/\"  # Directory where renamed images will be copied to\n",
    "\n",
    "# Creates output directory if it does not exist\n",
    "if os.path.isdir(output_dir) == False:\n",
    "    os.makedirs(output_dir)"
   ]
  },
  {
   "cell_type": "code",
   "execution_count": 5,
   "id": "915e8fad-c41c-4ea6-ae91-345bedcfc395",
   "metadata": {},
   "outputs": [
    {
     "data": {
      "text/plain": [
       "<Figure size 640x480 with 0 Axes>"
      ]
     },
     "metadata": {},
     "output_type": "display_data"
    },
    {
     "name": "stdout",
     "output_type": "stream",
     "text": [
      "/media/fritz/01_PNG_DATA/MeasurementImages/28042025/original/P1030334.JPG /media/fritz/01_PNG_DATA/MeasurementImages/28042025/labeled/RBPAIGE_original_RankPAIGE_PAIGE_P1030334_00333.JPG\n"
     ]
    }
   ],
   "source": [
    "# Create blank placeholder variables\n",
    "prev_tag = None\n",
    "prev_rank = None\n",
    "prev_save = 0\n",
    "prev_side = None\n",
    "save = None\n",
    "tag = None\n",
    "rank = None\n",
    "side = None\n",
    "\n",
    "start_file = 0  # Define starting file if you do not want to start from the first file in the image list\n",
    "\n",
    "for idx, image in enumerate(input_images[start_file:]):\n",
    "    img = cv2.imread(image)  # Read in image\n",
    "    RGB_img = cv2.cvtColor(\n",
    "        img, cv2.COLOR_BGR2RGB\n",
    "    )  # Convert image from BGR to RGB color space\n",
    "    plt.imshow(RGB_img)  # Show image\n",
    "\n",
    "    # Plot image\n",
    "    plt.title(Path(image).stem)\n",
    "    plt.ion()  # Turn the interactive mode on.\n",
    "    plt.axis(\"off\")\n",
    "    plt.pause(0.001)  # Pause for interval seconds.\n",
    "    # plt.close()\n",
    "\n",
    "    # Request user input\n",
    "    tag = input(\"Tag: [{}]\".format(prev_tag))\n",
    "    rank = input(\"Rank: [{}]\".format(prev_rank))\n",
    "    side = input(\"Side? [{}]\".format(prev_side))\n",
    "    save = input(\"Save? [{}]\".format(prev_save))\n",
    "\n",
    "    # Keep or change variables according to user input\n",
    "    if (tag == None) or (tag == \"\"):\n",
    "        tag = prev_tag\n",
    "    elif tag == prev_tag:\n",
    "        continue\n",
    "    if (rank == None) or (rank == \"\"):\n",
    "        rank = prev_rank\n",
    "    elif rank == prev_rank:\n",
    "        continue\n",
    "    if (side == None) or (side == \"\"):\n",
    "        side = prev_side\n",
    "    elif side == prev_side:\n",
    "        continue\n",
    "    if (save == None) or (save == \"\"):\n",
    "        save = int(prev_save)\n",
    "    else:\n",
    "        save = int(save)\n",
    "\n",
    "    prev_tag = tag\n",
    "    prev_rank = rank\n",
    "    prev_side = side\n",
    "    prev_save = save\n",
    "\n",
    "    display.clear_output(wait=True)\n",
    "    display.display(plt.gcf())\n",
    "    plt.close()\n",
    "\n",
    "    # Copy files\n",
    "    if save == 1:\n",
    "        dirname = os.path.basename(\n",
    "            os.path.dirname(image)\n",
    "        )  # Name of directory in which input images are located\n",
    "        dst = (\n",
    "            output_dir\n",
    "            + \"RB{}\".format(tag)\n",
    "            + \"_\"\n",
    "            + dirname\n",
    "            + \"_\"\n",
    "            + \"Rank{}\".format(rank)\n",
    "            + \"_\"\n",
    "            + \"{}\".format(side)\n",
    "            + \"_\"\n",
    "            + Path(image).stem\n",
    "            + \"_\"\n",
    "            + str(idx + start_file).zfill(5)\n",
    "            + Path(image).suffix\n",
    "        )  # Creat output file name\n",
    "\n",
    "        src = image  # Source image to copy to output file name\n",
    "        print(src, dst)  # Show input and output file names\n",
    "        shutil.copyfile(src, dst)  # Copy input to output file destination"
   ]
  },
  {
   "cell_type": "markdown",
   "id": "90cc9f02-276d-4666-b545-3c628aad7bb3",
   "metadata": {},
   "source": [
    "# Batch Rename Files\n",
    "Example where we remove ```_original``` from the image filenames."
   ]
  },
  {
   "cell_type": "code",
   "execution_count": 6,
   "id": "2108c7af-7888-4263-9c9a-12f3a61e08a7",
   "metadata": {},
   "outputs": [],
   "source": [
    "import os\n",
    "from pathlib import Path\n",
    "\n",
    "folder = Path(\"/media/fritz/01_PNG_DATA/MeasurementImages/28042025/labeled/\")  # <-- change to your folder\n",
    "\n",
    "for file in folder.glob(\"*_original_*\"):\n",
    "    new_name = str(file).replace(\"_original\", \"\")\n",
    "    file.rename(new_name)"
   ]
  }
 ],
 "metadata": {
  "kernelspec": {
   "display_name": "Python 3 (ipykernel)",
   "language": "python",
   "name": "python3"
  },
  "language_info": {
   "codemirror_mode": {
    "name": "ipython",
    "version": 3
   },
   "file_extension": ".py",
   "mimetype": "text/x-python",
   "name": "python",
   "nbconvert_exporter": "python",
   "pygments_lexer": "ipython3",
   "version": "3.11.10"
  }
 },
 "nbformat": 4,
 "nbformat_minor": 5
}
